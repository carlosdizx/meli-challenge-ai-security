{
 "cells": [
  {
   "metadata": {},
   "cell_type": "markdown",
   "source": "# 1. Importar librerias",
   "id": "1fae7f32b29631c5"
  },
  {
   "cell_type": "code",
   "id": "initial_id",
   "metadata": {
    "collapsed": true,
    "ExecuteTime": {
     "end_time": "2025-08-14T20:24:56.384062Z",
     "start_time": "2025-08-14T20:24:56.379834Z"
    }
   },
   "source": [
    "from kagglehub import dataset_download\n",
    "import pandas as pd"
   ],
   "outputs": [],
   "execution_count": 38
  },
  {
   "metadata": {},
   "cell_type": "markdown",
   "source": [
    "# 2. Esta operación descarga el dataset de Kaggle.\n",
    "> Puede tardar unos minutos si el dataset no estaba descargado anteriormente.\n",
    "\n",
    "> Archivos descargados: 8.3 GB aproximadamente (33 Millones de registros aproximadamente). "
   ],
   "id": "2e6dea180b09f18"
  },
  {
   "metadata": {
    "ExecuteTime": {
     "end_time": "2025-08-14T18:19:02.389309Z",
     "start_time": "2025-08-14T18:19:01.363223Z"
    }
   },
   "cell_type": "code",
   "source": [
    "path = dataset_download(\"dasgroup/rba-dataset\")\n",
    "print(path)"
   ],
   "id": "392301cda8d9cc37",
   "outputs": [
    {
     "name": "stdout",
     "output_type": "stream",
     "text": [
      "C:\\Users\\carlo\\.cache\\kagglehub\\datasets\\dasgroup\\rba-dataset\\versions\\1\n"
     ]
    }
   ],
   "execution_count": 2
  },
  {
   "metadata": {},
   "cell_type": "markdown",
   "source": [
    "# 3. Leer el dataset\n",
    "> Puede tardar unos minutos.\n",
    "\n",
    "> Ajustar `nrows` si es necesario, tomar menos registros si el equipo no tiene suficientes recursos."
   ],
   "id": "e60c14a80c210191"
  },
  {
   "metadata": {
    "ExecuteTime": {
     "end_time": "2025-08-14T18:19:11.073028Z",
     "start_time": "2025-08-14T18:19:05.291694Z"
    }
   },
   "cell_type": "code",
   "source": "df = pd.read_csv(f\"{path}/rba-dataset.csv\", nrows=2000000)",
   "id": "9a789ddcd0a6e583",
   "outputs": [],
   "execution_count": 3
  },
  {
   "metadata": {
    "ExecuteTime": {
     "end_time": "2025-08-14T18:19:11.105685Z",
     "start_time": "2025-08-14T18:19:11.074033Z"
    }
   },
   "cell_type": "code",
   "source": "df.head()",
   "id": "d3e440b0581b2f0a",
   "outputs": [
    {
     "data": {
      "text/plain": [
       "   index          Login Timestamp              User ID  Round-Trip Time [ms]  \\\n",
       "0      0  2020-02-03 12:43:30.772 -4324475583306591935                   NaN   \n",
       "1      1  2020-02-03 12:43:43.549 -4324475583306591935                   NaN   \n",
       "2      2  2020-02-03 12:43:55.873 -3284137479262433373                   NaN   \n",
       "3      3  2020-02-03 12:43:56.180 -4324475583306591935                   NaN   \n",
       "4      4  2020-02-03 12:43:59.396 -4618854071942621186                   NaN   \n",
       "\n",
       "      IP Address Country    Region       City     ASN  \\\n",
       "0    10.0.65.171      NO         -          -   29695   \n",
       "1   194.87.207.6      AU         -          -   60117   \n",
       "2  81.167.144.58      NO  Vestland  Urangsvag   29695   \n",
       "3  170.39.78.152      US         -          -  393398   \n",
       "4      10.0.0.47      US  Virginia    Ashburn  398986   \n",
       "\n",
       "                                   User Agent String  \\\n",
       "0  Mozilla/5.0  (iPhone; CPU iPhone OS 13_4 like ...   \n",
       "1  Mozilla/5.0  (Linux; Android 4.1; Galaxy Nexus...   \n",
       "2  Mozilla/5.0  (iPad; CPU OS 7_1 like Mac OS X) ...   \n",
       "3  Mozilla/5.0  (Linux; Android 4.1; Galaxy Nexus...   \n",
       "4  Mozilla/5.0  (Linux; U; Android 2.2) Build/NMA...   \n",
       "\n",
       "          Browser Name and Version OS Name and Version Device Type  \\\n",
       "0              Firefox 20.0.0.1618            iOS 13.4      mobile   \n",
       "1          Chrome Mobile 46.0.2490         Android 4.1      mobile   \n",
       "2               Android 2.3.3.2672             iOS 7.1      mobile   \n",
       "3  Chrome Mobile WebView 85.0.4183         Android 4.1      mobile   \n",
       "4  Chrome Mobile WebView 85.0.4183         Android 2.2      mobile   \n",
       "\n",
       "   Login Successful  Is Attack IP  Is Account Takeover  \n",
       "0             False         False                False  \n",
       "1             False         False                False  \n",
       "2              True         False                False  \n",
       "3             False         False                False  \n",
       "4             False          True                False  "
      ],
      "text/html": [
       "<div>\n",
       "<style scoped>\n",
       "    .dataframe tbody tr th:only-of-type {\n",
       "        vertical-align: middle;\n",
       "    }\n",
       "\n",
       "    .dataframe tbody tr th {\n",
       "        vertical-align: top;\n",
       "    }\n",
       "\n",
       "    .dataframe thead th {\n",
       "        text-align: right;\n",
       "    }\n",
       "</style>\n",
       "<table border=\"1\" class=\"dataframe\">\n",
       "  <thead>\n",
       "    <tr style=\"text-align: right;\">\n",
       "      <th></th>\n",
       "      <th>index</th>\n",
       "      <th>Login Timestamp</th>\n",
       "      <th>User ID</th>\n",
       "      <th>Round-Trip Time [ms]</th>\n",
       "      <th>IP Address</th>\n",
       "      <th>Country</th>\n",
       "      <th>Region</th>\n",
       "      <th>City</th>\n",
       "      <th>ASN</th>\n",
       "      <th>User Agent String</th>\n",
       "      <th>Browser Name and Version</th>\n",
       "      <th>OS Name and Version</th>\n",
       "      <th>Device Type</th>\n",
       "      <th>Login Successful</th>\n",
       "      <th>Is Attack IP</th>\n",
       "      <th>Is Account Takeover</th>\n",
       "    </tr>\n",
       "  </thead>\n",
       "  <tbody>\n",
       "    <tr>\n",
       "      <th>0</th>\n",
       "      <td>0</td>\n",
       "      <td>2020-02-03 12:43:30.772</td>\n",
       "      <td>-4324475583306591935</td>\n",
       "      <td>NaN</td>\n",
       "      <td>10.0.65.171</td>\n",
       "      <td>NO</td>\n",
       "      <td>-</td>\n",
       "      <td>-</td>\n",
       "      <td>29695</td>\n",
       "      <td>Mozilla/5.0  (iPhone; CPU iPhone OS 13_4 like ...</td>\n",
       "      <td>Firefox 20.0.0.1618</td>\n",
       "      <td>iOS 13.4</td>\n",
       "      <td>mobile</td>\n",
       "      <td>False</td>\n",
       "      <td>False</td>\n",
       "      <td>False</td>\n",
       "    </tr>\n",
       "    <tr>\n",
       "      <th>1</th>\n",
       "      <td>1</td>\n",
       "      <td>2020-02-03 12:43:43.549</td>\n",
       "      <td>-4324475583306591935</td>\n",
       "      <td>NaN</td>\n",
       "      <td>194.87.207.6</td>\n",
       "      <td>AU</td>\n",
       "      <td>-</td>\n",
       "      <td>-</td>\n",
       "      <td>60117</td>\n",
       "      <td>Mozilla/5.0  (Linux; Android 4.1; Galaxy Nexus...</td>\n",
       "      <td>Chrome Mobile 46.0.2490</td>\n",
       "      <td>Android 4.1</td>\n",
       "      <td>mobile</td>\n",
       "      <td>False</td>\n",
       "      <td>False</td>\n",
       "      <td>False</td>\n",
       "    </tr>\n",
       "    <tr>\n",
       "      <th>2</th>\n",
       "      <td>2</td>\n",
       "      <td>2020-02-03 12:43:55.873</td>\n",
       "      <td>-3284137479262433373</td>\n",
       "      <td>NaN</td>\n",
       "      <td>81.167.144.58</td>\n",
       "      <td>NO</td>\n",
       "      <td>Vestland</td>\n",
       "      <td>Urangsvag</td>\n",
       "      <td>29695</td>\n",
       "      <td>Mozilla/5.0  (iPad; CPU OS 7_1 like Mac OS X) ...</td>\n",
       "      <td>Android 2.3.3.2672</td>\n",
       "      <td>iOS 7.1</td>\n",
       "      <td>mobile</td>\n",
       "      <td>True</td>\n",
       "      <td>False</td>\n",
       "      <td>False</td>\n",
       "    </tr>\n",
       "    <tr>\n",
       "      <th>3</th>\n",
       "      <td>3</td>\n",
       "      <td>2020-02-03 12:43:56.180</td>\n",
       "      <td>-4324475583306591935</td>\n",
       "      <td>NaN</td>\n",
       "      <td>170.39.78.152</td>\n",
       "      <td>US</td>\n",
       "      <td>-</td>\n",
       "      <td>-</td>\n",
       "      <td>393398</td>\n",
       "      <td>Mozilla/5.0  (Linux; Android 4.1; Galaxy Nexus...</td>\n",
       "      <td>Chrome Mobile WebView 85.0.4183</td>\n",
       "      <td>Android 4.1</td>\n",
       "      <td>mobile</td>\n",
       "      <td>False</td>\n",
       "      <td>False</td>\n",
       "      <td>False</td>\n",
       "    </tr>\n",
       "    <tr>\n",
       "      <th>4</th>\n",
       "      <td>4</td>\n",
       "      <td>2020-02-03 12:43:59.396</td>\n",
       "      <td>-4618854071942621186</td>\n",
       "      <td>NaN</td>\n",
       "      <td>10.0.0.47</td>\n",
       "      <td>US</td>\n",
       "      <td>Virginia</td>\n",
       "      <td>Ashburn</td>\n",
       "      <td>398986</td>\n",
       "      <td>Mozilla/5.0  (Linux; U; Android 2.2) Build/NMA...</td>\n",
       "      <td>Chrome Mobile WebView 85.0.4183</td>\n",
       "      <td>Android 2.2</td>\n",
       "      <td>mobile</td>\n",
       "      <td>False</td>\n",
       "      <td>True</td>\n",
       "      <td>False</td>\n",
       "    </tr>\n",
       "  </tbody>\n",
       "</table>\n",
       "</div>"
      ]
     },
     "execution_count": 4,
     "metadata": {},
     "output_type": "execute_result"
    }
   ],
   "execution_count": 4
  },
  {
   "metadata": {
    "ExecuteTime": {
     "end_time": "2025-08-14T18:39:13.572507Z",
     "start_time": "2025-08-14T18:39:13.539863Z"
    }
   },
   "cell_type": "code",
   "source": "df.info()",
   "id": "d19e5eb997725d34",
   "outputs": [
    {
     "name": "stdout",
     "output_type": "stream",
     "text": [
      "<class 'pandas.core.frame.DataFrame'>\n",
      "RangeIndex: 2000000 entries, 0 to 1999999\n",
      "Data columns (total 16 columns):\n",
      " #   Column                    Dtype  \n",
      "---  ------                    -----  \n",
      " 0   index                     int64  \n",
      " 1   Login Timestamp           object \n",
      " 2   User ID                   int64  \n",
      " 3   Round-Trip Time [ms]      float64\n",
      " 4   IP Address                object \n",
      " 5   Country                   object \n",
      " 6   Region                    object \n",
      " 7   City                      object \n",
      " 8   ASN                       int64  \n",
      " 9   User Agent String         object \n",
      " 10  Browser Name and Version  object \n",
      " 11  OS Name and Version       object \n",
      " 12  Device Type               object \n",
      " 13  Login Successful          bool   \n",
      " 14  Is Attack IP              bool   \n",
      " 15  Is Account Takeover       bool   \n",
      "dtypes: bool(3), float64(1), int64(3), object(9)\n",
      "memory usage: 204.1+ MB\n"
     ]
    }
   ],
   "execution_count": 5
  },
  {
   "metadata": {
    "ExecuteTime": {
     "end_time": "2025-08-14T18:42:13.198656Z",
     "start_time": "2025-08-14T18:42:13.193856Z"
    }
   },
   "cell_type": "code",
   "source": "df.shape",
   "id": "f7da99aef7081258",
   "outputs": [
    {
     "data": {
      "text/plain": [
       "(2000000, 16)"
      ]
     },
     "execution_count": 13,
     "metadata": {},
     "output_type": "execute_result"
    }
   ],
   "execution_count": 13
  },
  {
   "metadata": {},
   "cell_type": "markdown",
   "source": "# 4. Limpiar el dataset",
   "id": "d70d2a063041eed9"
  },
  {
   "metadata": {
    "ExecuteTime": {
     "end_time": "2025-08-14T18:42:17.004178Z",
     "start_time": "2025-08-14T18:42:14.419651Z"
    }
   },
   "cell_type": "code",
   "source": "df.duplicated().sum()",
   "id": "9c3bf1be900bc578",
   "outputs": [
    {
     "data": {
      "text/plain": [
       "np.int64(0)"
      ]
     },
     "execution_count": 14,
     "metadata": {},
     "output_type": "execute_result"
    }
   ],
   "execution_count": 14
  },
  {
   "metadata": {
    "ExecuteTime": {
     "end_time": "2025-08-14T18:42:17.387008Z",
     "start_time": "2025-08-14T18:42:17.005186Z"
    }
   },
   "cell_type": "code",
   "source": "df.isnull().sum().sort_values(ascending=False)",
   "id": "ae0fd3c51bc4f0a",
   "outputs": [
    {
     "data": {
      "text/plain": [
       "Round-Trip Time [ms]        1907001\n",
       "Region                         1117\n",
       "City                            880\n",
       "Device Type                     104\n",
       "User ID                           0\n",
       "Login Timestamp                   0\n",
       "Country                           0\n",
       "index                             0\n",
       "IP Address                        0\n",
       "ASN                               0\n",
       "Browser Name and Version          0\n",
       "User Agent String                 0\n",
       "OS Name and Version               0\n",
       "Login Successful                  0\n",
       "Is Attack IP                      0\n",
       "Is Account Takeover               0\n",
       "dtype: int64"
      ]
     },
     "execution_count": 15,
     "metadata": {},
     "output_type": "execute_result"
    }
   ],
   "execution_count": 15
  },
  {
   "metadata": {
    "ExecuteTime": {
     "end_time": "2025-08-14T18:42:18.493785Z",
     "start_time": "2025-08-14T18:42:18.342237Z"
    }
   },
   "cell_type": "code",
   "source": "category_cols = df.select_dtypes(include=[\"object\"]).columns",
   "id": "55d4d5d6aa123f94",
   "outputs": [],
   "execution_count": 16
  },
  {
   "metadata": {
    "ExecuteTime": {
     "end_time": "2025-08-14T18:42:19.161644Z",
     "start_time": "2025-08-14T18:42:19.156961Z"
    }
   },
   "cell_type": "code",
   "source": "category_cols",
   "id": "2dfe47c8fe851b2b",
   "outputs": [
    {
     "data": {
      "text/plain": [
       "Index(['Login Timestamp', 'IP Address', 'Country', 'Region', 'City',\n",
       "       'User Agent String', 'Browser Name and Version', 'OS Name and Version',\n",
       "       'Device Type'],\n",
       "      dtype='object')"
      ]
     },
     "execution_count": 17,
     "metadata": {},
     "output_type": "execute_result"
    }
   ],
   "execution_count": 17
  },
  {
   "metadata": {
    "ExecuteTime": {
     "end_time": "2025-08-14T18:42:21.674715Z",
     "start_time": "2025-08-14T18:42:19.868047Z"
    }
   },
   "cell_type": "code",
   "source": [
    "for col in category_cols:\n",
    "    if df[col].nunique() <= 10:\n",
    "        print(f\"{col}: {df[col].unique()}\")"
   ],
   "id": "8cf9c849f9ee3cb1",
   "outputs": [
    {
     "name": "stdout",
     "output_type": "stream",
     "text": [
      "Device Type: ['mobile' 'desktop' 'tablet' 'bot' 'unknown' nan]\n"
     ]
    }
   ],
   "execution_count": 18
  },
  {
   "metadata": {
    "ExecuteTime": {
     "end_time": "2025-08-14T18:54:08.052749Z",
     "start_time": "2025-08-14T18:54:07.971494Z"
    }
   },
   "cell_type": "code",
   "source": [
    "df_clean = df.drop(columns=['User ID', 'User Agent String', 'Browser Name and Version', 'OS Name and Version',\n",
    "                            'Round-Trip Time [ms]', 'ASN', \"Login Timestamp\"])"
   ],
   "id": "437a74845ab5e2be",
   "outputs": [],
   "execution_count": 28
  },
  {
   "metadata": {
    "ExecuteTime": {
     "end_time": "2025-08-14T18:54:10.355321Z",
     "start_time": "2025-08-14T18:54:10.190312Z"
    }
   },
   "cell_type": "code",
   "source": [
    "df_clean.loc[df_clean['Region'].isnull(), 'Region'] = 'Unknown'\n",
    "df_clean.loc[df_clean['City'].isnull(), 'City'] = 'Unknown'\n",
    "df_clean.loc[df_clean['Device Type'].isnull(), 'Device Type'] = 'unknown'"
   ],
   "id": "33f7512ffd322632",
   "outputs": [],
   "execution_count": 29
  },
  {
   "metadata": {
    "ExecuteTime": {
     "end_time": "2025-08-14T18:54:11.826800Z",
     "start_time": "2025-08-14T18:54:11.624662Z"
    }
   },
   "cell_type": "code",
   "source": "df_clean.isnull().sum().sort_values(ascending=False)",
   "id": "6c82a3ebabf057b2",
   "outputs": [
    {
     "data": {
      "text/plain": [
       "index                  0\n",
       "IP Address             0\n",
       "Country                0\n",
       "Region                 0\n",
       "City                   0\n",
       "Device Type            0\n",
       "Login Successful       0\n",
       "Is Attack IP           0\n",
       "Is Account Takeover    0\n",
       "dtype: int64"
      ]
     },
     "execution_count": 30,
     "metadata": {},
     "output_type": "execute_result"
    }
   ],
   "execution_count": 30
  },
  {
   "metadata": {
    "ExecuteTime": {
     "end_time": "2025-08-14T18:56:36.539895Z",
     "start_time": "2025-08-14T18:56:36.427655Z"
    }
   },
   "cell_type": "code",
   "source": [
    "map_device = {'mobile': 1, 'desktop': 2, 'tablet': 3, 'bot': 4, 'unknown': 5}\n",
    "\n",
    "df_clean['DeviceTypeNum'] = (df_clean['Device Type'].map(map_device).fillna(map_device['unknown']).astype('Int64'))\n",
    "\n",
    "df_clean['DeviceTypeNum'].unique()"
   ],
   "id": "36dbd0d0a675680e",
   "outputs": [
    {
     "data": {
      "text/plain": [
       "<IntegerArray>\n",
       "[1, 2, 3, 4, 5]\n",
       "Length: 5, dtype: Int64"
      ]
     },
     "execution_count": 35,
     "metadata": {},
     "output_type": "execute_result"
    }
   ],
   "execution_count": 35
  },
  {
   "metadata": {
    "ExecuteTime": {
     "end_time": "2025-08-14T18:56:53.292983Z",
     "start_time": "2025-08-14T18:56:53.288319Z"
    }
   },
   "cell_type": "code",
   "source": "df_clean.shape",
   "id": "3c00fcc2f3a533f7",
   "outputs": [
    {
     "data": {
      "text/plain": [
       "(2000000, 10)"
      ]
     },
     "execution_count": 36,
     "metadata": {},
     "output_type": "execute_result"
    }
   ],
   "execution_count": 36
  },
  {
   "metadata": {
    "ExecuteTime": {
     "end_time": "2025-08-14T18:56:59.361788Z",
     "start_time": "2025-08-14T18:56:59.352870Z"
    }
   },
   "cell_type": "code",
   "source": "df_clean.head()",
   "id": "ad204baae617dde",
   "outputs": [
    {
     "data": {
      "text/plain": [
       "   index     IP Address Country    Region       City Device Type  \\\n",
       "0      0    10.0.65.171      NO         -          -      mobile   \n",
       "1      1   194.87.207.6      AU         -          -      mobile   \n",
       "2      2  81.167.144.58      NO  Vestland  Urangsvag      mobile   \n",
       "3      3  170.39.78.152      US         -          -      mobile   \n",
       "4      4      10.0.0.47      US  Virginia    Ashburn      mobile   \n",
       "\n",
       "   Login Successful  Is Attack IP  Is Account Takeover  DeviceTypeNum  \n",
       "0             False         False                False              1  \n",
       "1             False         False                False              1  \n",
       "2              True         False                False              1  \n",
       "3             False         False                False              1  \n",
       "4             False          True                False              1  "
      ],
      "text/html": [
       "<div>\n",
       "<style scoped>\n",
       "    .dataframe tbody tr th:only-of-type {\n",
       "        vertical-align: middle;\n",
       "    }\n",
       "\n",
       "    .dataframe tbody tr th {\n",
       "        vertical-align: top;\n",
       "    }\n",
       "\n",
       "    .dataframe thead th {\n",
       "        text-align: right;\n",
       "    }\n",
       "</style>\n",
       "<table border=\"1\" class=\"dataframe\">\n",
       "  <thead>\n",
       "    <tr style=\"text-align: right;\">\n",
       "      <th></th>\n",
       "      <th>index</th>\n",
       "      <th>IP Address</th>\n",
       "      <th>Country</th>\n",
       "      <th>Region</th>\n",
       "      <th>City</th>\n",
       "      <th>Device Type</th>\n",
       "      <th>Login Successful</th>\n",
       "      <th>Is Attack IP</th>\n",
       "      <th>Is Account Takeover</th>\n",
       "      <th>DeviceTypeNum</th>\n",
       "    </tr>\n",
       "  </thead>\n",
       "  <tbody>\n",
       "    <tr>\n",
       "      <th>0</th>\n",
       "      <td>0</td>\n",
       "      <td>10.0.65.171</td>\n",
       "      <td>NO</td>\n",
       "      <td>-</td>\n",
       "      <td>-</td>\n",
       "      <td>mobile</td>\n",
       "      <td>False</td>\n",
       "      <td>False</td>\n",
       "      <td>False</td>\n",
       "      <td>1</td>\n",
       "    </tr>\n",
       "    <tr>\n",
       "      <th>1</th>\n",
       "      <td>1</td>\n",
       "      <td>194.87.207.6</td>\n",
       "      <td>AU</td>\n",
       "      <td>-</td>\n",
       "      <td>-</td>\n",
       "      <td>mobile</td>\n",
       "      <td>False</td>\n",
       "      <td>False</td>\n",
       "      <td>False</td>\n",
       "      <td>1</td>\n",
       "    </tr>\n",
       "    <tr>\n",
       "      <th>2</th>\n",
       "      <td>2</td>\n",
       "      <td>81.167.144.58</td>\n",
       "      <td>NO</td>\n",
       "      <td>Vestland</td>\n",
       "      <td>Urangsvag</td>\n",
       "      <td>mobile</td>\n",
       "      <td>True</td>\n",
       "      <td>False</td>\n",
       "      <td>False</td>\n",
       "      <td>1</td>\n",
       "    </tr>\n",
       "    <tr>\n",
       "      <th>3</th>\n",
       "      <td>3</td>\n",
       "      <td>170.39.78.152</td>\n",
       "      <td>US</td>\n",
       "      <td>-</td>\n",
       "      <td>-</td>\n",
       "      <td>mobile</td>\n",
       "      <td>False</td>\n",
       "      <td>False</td>\n",
       "      <td>False</td>\n",
       "      <td>1</td>\n",
       "    </tr>\n",
       "    <tr>\n",
       "      <th>4</th>\n",
       "      <td>4</td>\n",
       "      <td>10.0.0.47</td>\n",
       "      <td>US</td>\n",
       "      <td>Virginia</td>\n",
       "      <td>Ashburn</td>\n",
       "      <td>mobile</td>\n",
       "      <td>False</td>\n",
       "      <td>True</td>\n",
       "      <td>False</td>\n",
       "      <td>1</td>\n",
       "    </tr>\n",
       "  </tbody>\n",
       "</table>\n",
       "</div>"
      ]
     },
     "execution_count": 37,
     "metadata": {},
     "output_type": "execute_result"
    }
   ],
   "execution_count": 37
  },
  {
   "metadata": {},
   "cell_type": "markdown",
   "source": "# 5. Análisis exploratorio de datos (EDA)",
   "id": "a4eb1beb8f476d8d"
  },
  {
   "metadata": {},
   "cell_type": "code",
   "outputs": [],
   "execution_count": null,
   "source": "",
   "id": "e083656dde430b8d"
  }
 ],
 "metadata": {
  "kernelspec": {
   "display_name": "Python 3",
   "language": "python",
   "name": "python3"
  },
  "language_info": {
   "codemirror_mode": {
    "name": "ipython",
    "version": 2
   },
   "file_extension": ".py",
   "mimetype": "text/x-python",
   "name": "python",
   "nbconvert_exporter": "python",
   "pygments_lexer": "ipython2",
   "version": "2.7.6"
  }
 },
 "nbformat": 4,
 "nbformat_minor": 5
}
